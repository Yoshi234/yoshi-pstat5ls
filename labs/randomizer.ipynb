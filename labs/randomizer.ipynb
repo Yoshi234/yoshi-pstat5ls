{
 "cells": [
  {
   "cell_type": "code",
   "execution_count": 1,
   "id": "3b99cdd4",
   "metadata": {},
   "outputs": [],
   "source": [
    "import pandas as pd\n",
    "import random"
   ]
  },
  {
   "cell_type": "code",
   "execution_count": 20,
   "id": "6f203f5e",
   "metadata": {},
   "outputs": [
    {
     "name": "stdout",
     "output_type": "stream",
     "text": [
      "GROUP 0\n",
      "5     dahlila_benitez\n",
      "3         ava_dermott\n",
      "15      maddie_shuman\n",
      "1      anna_goldstein\n",
      "11          jeslyn_wu\n",
      "Name: student, dtype: object\n",
      "GROUP 0\n",
      "14        kobe_nguyen\n",
      "20       rosa_argueta\n",
      "19      nicolas_lendo\n",
      "9         eve_langdon\n",
      "21    sammi_dorostkar\n",
      "Name: student, dtype: object\n",
      "GROUP 0\n",
      "13      katherine_wilmering\n",
      "16    maddox_guill_espinosa\n",
      "23       tyra_neptune-lucas\n",
      "25             hudson_vieux\n",
      "24              zoey_carter\n",
      "Name: student, dtype: object\n",
      "GROUP 0\n",
      "18    nathaly_mendoza-alvarez\n",
      "4       christina_constantina\n",
      "8            estrella_estrada\n",
      "0                 alexa_perez\n",
      "2                arman_kosari\n",
      "Name: student, dtype: object\n",
      "GROUP 0\n",
      "12    juliette_isquierdo\n",
      "7               eme_beck\n",
      "10            finn_marti\n",
      "17            mia_canton\n",
      "6         daisy_cardenas\n",
      "Name: student, dtype: object\n",
      "GROUP 0\n",
      "22    sofia_magee\n",
      "Name: student, dtype: object\n"
     ]
    }
   ],
   "source": [
    "students = pd.read_csv('attendance.csv')\n",
    "while not students.empty:\n",
    "    i = 0\n",
    "    try:\n",
    "        samp = students.sample(5)\n",
    "    except:\n",
    "        samp = students\n",
    "    # print(samp['student'].values)\n",
    "    students = students.loc[~students['student'].isin(samp['student'].values)]\n",
    "    print('GROUP {}'.format(i))\n",
    "    print(samp['student'])\n",
    "    i += 1"
   ]
  }
 ],
 "metadata": {
  "kernelspec": {
   "display_name": "Python 3",
   "language": "python",
   "name": "python3"
  },
  "language_info": {
   "codemirror_mode": {
    "name": "ipython",
    "version": 3
   },
   "file_extension": ".py",
   "mimetype": "text/x-python",
   "name": "python",
   "nbconvert_exporter": "python",
   "pygments_lexer": "ipython3",
   "version": "3.10.12"
  }
 },
 "nbformat": 4,
 "nbformat_minor": 5
}
